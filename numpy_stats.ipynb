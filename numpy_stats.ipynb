{
 "cells": [
  {
   "cell_type": "code",
   "execution_count": 1,
   "metadata": {},
   "outputs": [],
   "source": [
    "import numpy as np"
   ]
  },
  {
   "cell_type": "code",
   "execution_count": 15,
   "metadata": {},
   "outputs": [
    {
     "name": "stdout",
     "output_type": "stream",
     "text": [
      "[[ 20  -9 -40]\n",
      " [ 10   0  -1]\n",
      " [  7   6  34]]\n"
     ]
    }
   ],
   "source": [
    "arr_st = np.array([[20,-9,-40],[10,0,-1],[7,6,34]])\n",
    "print(arr_st)"
   ]
  },
  {
   "cell_type": "markdown",
   "metadata": {},
   "source": [
    "max()"
   ]
  },
  {
   "cell_type": "code",
   "execution_count": 16,
   "metadata": {},
   "outputs": [
    {
     "name": "stdout",
     "output_type": "stream",
     "text": [
      "34\n",
      "[20  6 34]\n",
      "[20 10 34]\n"
     ]
    }
   ],
   "source": [
    "print(np.max(arr_st))\n",
    "print(np.max(arr_st,axis=0)) #max value along every column\n",
    "print(np.max(arr_st,axis=1)) #max value along every row"
   ]
  },
  {
   "cell_type": "markdown",
   "metadata": {},
   "source": [
    "min()"
   ]
  },
  {
   "cell_type": "code",
   "execution_count": 17,
   "metadata": {},
   "outputs": [
    {
     "name": "stdout",
     "output_type": "stream",
     "text": [
      "-40\n",
      "[  7  -9 -40]\n",
      "[-40  -1   6]\n"
     ]
    }
   ],
   "source": [
    "print(np.min(arr_st))\n",
    "print(np.min(arr_st,axis=0)) #min value along every column\n",
    "print(np.min(arr_st,axis=1)) #min value along every row"
   ]
  },
  {
   "cell_type": "markdown",
   "metadata": {},
   "source": [
    "Sum"
   ]
  },
  {
   "cell_type": "code",
   "execution_count": 18,
   "metadata": {},
   "outputs": [
    {
     "name": "stdout",
     "output_type": "stream",
     "text": [
      "27\n",
      "[37 -3 -7]\n",
      "[-29   9  47]\n"
     ]
    }
   ],
   "source": [
    "print(np.sum(arr_st))\n",
    "print(np.sum(arr_st,axis=0))\n",
    "print(np.sum(arr_st,axis=1))"
   ]
  },
  {
   "cell_type": "markdown",
   "metadata": {},
   "source": [
    "argmax()"
   ]
  },
  {
   "cell_type": "code",
   "execution_count": 19,
   "metadata": {},
   "outputs": [
    {
     "name": "stdout",
     "output_type": "stream",
     "text": [
      "8\n",
      "[0 2 2]\n",
      "[0 0 2]\n"
     ]
    }
   ],
   "source": [
    "#tells the index value of the max element in the matrix\n",
    "print(np.argmax(arr_st))\n",
    "print(np.argmax(arr_st,axis=0))\n",
    "print(np.argmax(arr_st,axis=1))\n",
    "\n"
   ]
  },
  {
   "cell_type": "markdown",
   "metadata": {},
   "source": [
    "Same goes for argmin()"
   ]
  },
  {
   "cell_type": "code",
   "execution_count": 20,
   "metadata": {},
   "outputs": [
    {
     "name": "stdout",
     "output_type": "stream",
     "text": [
      "2\n",
      "[2 0 0]\n",
      "[2 2 1]\n"
     ]
    }
   ],
   "source": [
    "print(np.argmin(arr_st))\n",
    "print(np.argmin(arr_st,axis=0))\n",
    "print(np.argmin(arr_st,axis=1))"
   ]
  },
  {
   "cell_type": "markdown",
   "metadata": {},
   "source": [
    "np.around()"
   ]
  },
  {
   "cell_type": "code",
   "execution_count": 21,
   "metadata": {},
   "outputs": [
    {
     "name": "stdout",
     "output_type": "stream",
     "text": [
      "[3. 6. 7.]\n"
     ]
    }
   ],
   "source": [
    "#tells the round off value of the elements in th array\n",
    "arr_ro = np.array([3.09,5.96,7.35])\n",
    "print(np.around(arr_ro))"
   ]
  },
  {
   "cell_type": "code",
   "execution_count": 25,
   "metadata": {},
   "outputs": [
    {
     "name": "stdout",
     "output_type": "stream",
     "text": [
      "[3.146 5.963 7.356]\n"
     ]
    }
   ],
   "source": [
    "# we can also decide the number of decimal places to be left \n",
    "arr_ro2 = np.array([3.14568739,5.962848535,7.355678])\n",
    "print(np.around(arr_ro2,decimals=3))"
   ]
  },
  {
   "cell_type": "markdown",
   "metadata": {},
   "source": [
    "Floor and Ceil"
   ]
  },
  {
   "cell_type": "code",
   "execution_count": 29,
   "metadata": {},
   "outputs": [
    {
     "name": "stdout",
     "output_type": "stream",
     "text": [
      "[-2. -5.  4. -1.]\n",
      "[-1. -4.  5. -0.]\n"
     ]
    }
   ],
   "source": [
    "#it is also like around() but the rounding off is done differently \n",
    "a = np.array([-1.7,-4.2,4.6,-0.87])\n",
    "print(np.floor(a)) # rounds of to the adjecent lower value of the element\n",
    "print(np.ceil(a)) # rounds of to the adjecent higher value of the element"
   ]
  },
  {
   "cell_type": "markdown",
   "metadata": {},
   "source": [
    "copy and view"
   ]
  },
  {
   "cell_type": "code",
   "execution_count": 31,
   "metadata": {},
   "outputs": [
    {
     "name": "stdout",
     "output_type": "stream",
     "text": [
      "[3 4 5 6 7]\n",
      "this is x:  [56  4  5  6  7]\n",
      "this is original array:  [3 4 5 6 7]\n"
     ]
    }
   ],
   "source": [
    "# copy allows for making a litral copy of an array \n",
    "# and the changes done to the copy will not affect the original array \n",
    "arr = np.array([3,4,5,6,7])\n",
    "x = arr.copy()\n",
    "print(x)\n",
    "x[0] = 56\n",
    "print(\"this is x: \",x)\n",
    "print(\"this is original array: \",arr)"
   ]
  },
  {
   "cell_type": "code",
   "execution_count": 33,
   "metadata": {},
   "outputs": [
    {
     "name": "stdout",
     "output_type": "stream",
     "text": [
      "[3 4 5 6 7]\n",
      "this is x:  [56  4  5  6  7]\n",
      "this is original array:  [56  4  5  6  7]\n",
      "x after change in arr:  [56  4  5 23  7]\n",
      "arr after the change:  [56  4  5 23  7]\n"
     ]
    }
   ],
   "source": [
    "# view allos to make a variable which show the mirror image array\n",
    "# any changes done to th eview variable is done to the original\n",
    "arr = np.array([3,4,5,6,7])\n",
    "x = arr.view()\n",
    "print(x)\n",
    "x[0] = 56\n",
    "print(\"this is x: \",x)\n",
    "print(\"this is original array: \",arr)\n",
    "arr[3] = 23\n",
    "print(\"x after change in arr: \",x)\n",
    "print(\"arr after the change: \",arr)"
   ]
  },
  {
   "cell_type": "markdown",
   "metadata": {},
   "source": [
    "Iteration"
   ]
  },
  {
   "cell_type": "code",
   "execution_count": 35,
   "metadata": {},
   "outputs": [],
   "source": [
    "arr1 = np.array([1,2,3,4,5])\n",
    "arr2 = np.array([[1,2,3,4],[5,6,7,8],[9,10,11,12]])\n",
    "arr3 = np.array([[[1,2,3],\n",
    "                  [4,5,6]],\n",
    "                  [[7,8,9],\n",
    "                  [10,11,12]]])"
   ]
  },
  {
   "cell_type": "code",
   "execution_count": 36,
   "metadata": {},
   "outputs": [
    {
     "name": "stdout",
     "output_type": "stream",
     "text": [
      "1\n",
      "2\n",
      "3\n",
      "4\n",
      "5\n"
     ]
    }
   ],
   "source": [
    "for i in arr1:\n",
    "    print(i)"
   ]
  },
  {
   "cell_type": "code",
   "execution_count": 38,
   "metadata": {},
   "outputs": [
    {
     "name": "stdout",
     "output_type": "stream",
     "text": [
      "[1 2 3 4]\n",
      "[5 6 7 8]\n",
      "[ 9 10 11 12]\n",
      "5\n",
      "6\n",
      "7\n",
      "8\n"
     ]
    }
   ],
   "source": [
    "for i in arr2:\n",
    "    print(i)\n",
    "for i in arr2[1]:\n",
    "    print(i)"
   ]
  },
  {
   "cell_type": "code",
   "execution_count": 48,
   "metadata": {},
   "outputs": [
    {
     "name": "stdout",
     "output_type": "stream",
     "text": [
      "[7 8 9]\n",
      "[10 11 12]\n"
     ]
    }
   ],
   "source": [
    "for i in arr3[1]:\n",
    "    print(i)"
   ]
  },
  {
   "cell_type": "code",
   "execution_count": null,
   "metadata": {},
   "outputs": [],
   "source": []
  }
 ],
 "metadata": {
  "kernelspec": {
   "display_name": "Python 3",
   "language": "python",
   "name": "python3"
  },
  "language_info": {
   "codemirror_mode": {
    "name": "ipython",
    "version": 3
   },
   "file_extension": ".py",
   "mimetype": "text/x-python",
   "name": "python",
   "nbconvert_exporter": "python",
   "pygments_lexer": "ipython3",
   "version": "3.9.6"
  }
 },
 "nbformat": 4,
 "nbformat_minor": 2
}
