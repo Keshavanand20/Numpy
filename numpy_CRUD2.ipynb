{
 "cells": [
  {
   "cell_type": "code",
   "execution_count": 1,
   "metadata": {},
   "outputs": [],
   "source": [
    "import numpy as np"
   ]
  },
  {
   "cell_type": "code",
   "execution_count": 2,
   "metadata": {},
   "outputs": [],
   "source": [
    "arr1 = np.array([[1,2,3,4,5],[6,7,8,9,10]])\n",
    "arr2 = np.array([[11,12,13,14,15],[16,17,18,19,20]])"
   ]
  },
  {
   "cell_type": "markdown",
   "metadata": {},
   "source": [
    "Mathematical Functions and Statistics"
   ]
  },
  {
   "cell_type": "markdown",
   "metadata": {},
   "source": [
    "Addition -> adding two matrices and adding a element to a matrix"
   ]
  },
  {
   "cell_type": "code",
   "execution_count": 4,
   "metadata": {},
   "outputs": [
    {
     "name": "stdout",
     "output_type": "stream",
     "text": [
      "[[12 14 16 18 20]\n",
      " [22 24 26 28 30]]\n",
      "[[31 32 33 34 35]\n",
      " [36 37 38 39 40]]\n"
     ]
    }
   ],
   "source": [
    "#adding two matrices\n",
    "print(arr1+arr2)\n",
    "#adding an element to a mtrix\n",
    "print(arr2 +20)"
   ]
  },
  {
   "cell_type": "code",
   "execution_count": 5,
   "metadata": {},
   "outputs": [
    {
     "name": "stdout",
     "output_type": "stream",
     "text": [
      "[[ 2  4  6  8 10]\n",
      " [ 7  9 11 13 15]]\n"
     ]
    }
   ],
   "source": [
    "#arr3 = np.array([1,2,3])  #adding this to arr1 will show an error\n",
    "arr3 = np.array([1,2,3,4,5])\n",
    "\n",
    "print(arr1+arr3) #since thwe size of the columns were the same \n",
    "#for both the array and the matrix the elements of arr3 were added to every row of arr1  \n"
   ]
  },
  {
   "cell_type": "code",
   "execution_count": 6,
   "metadata": {},
   "outputs": [
    {
     "name": "stdout",
     "output_type": "stream",
     "text": [
      "[[ 2  3  4  5  6]\n",
      " [ 8  9 10 11 12]]\n"
     ]
    }
   ],
   "source": [
    "arr3 =  np.array([[1],[2]]) #the size of rthe rows were same\n",
    "print(arr1+arr3)"
   ]
  },
  {
   "cell_type": "markdown",
   "metadata": {},
   "source": [
    "Substraction"
   ]
  },
  {
   "cell_type": "code",
   "execution_count": 7,
   "metadata": {},
   "outputs": [
    {
     "name": "stdout",
     "output_type": "stream",
     "text": [
      "[[12 14 16 18 20]\n",
      " [22 24 26 28 30]]\n",
      "[[-9 -8 -7 -6 -5]\n",
      " [-4 -3 -2 -1  0]]\n"
     ]
    }
   ],
   "source": [
    "print(arr1+arr2)\n",
    "print(arr1-10)\n"
   ]
  },
  {
   "cell_type": "markdown",
   "metadata": {},
   "source": [
    "Division"
   ]
  },
  {
   "cell_type": "code",
   "execution_count": 9,
   "metadata": {},
   "outputs": [
    {
     "name": "stdout",
     "output_type": "stream",
     "text": [
      "[[0.09090909 0.16666667 0.23076923 0.28571429 0.33333333]\n",
      " [0.375      0.41176471 0.44444444 0.47368421 0.5       ]]\n",
      "[[0.25 0.5  0.75 1.   1.25]\n",
      " [1.5  1.75 2.   2.25 2.5 ]]\n"
     ]
    }
   ],
   "source": [
    "print(arr1/arr2)\n",
    "print(arr1/4)"
   ]
  },
  {
   "cell_type": "markdown",
   "metadata": {},
   "source": [
    "Exponential"
   ]
  },
  {
   "cell_type": "code",
   "execution_count": 13,
   "metadata": {},
   "outputs": [
    {
     "name": "stdout",
     "output_type": "stream",
     "text": [
      "[[11 12 13 14 15]\n",
      " [16 17 18 19 20]]\n",
      "[[          1        4096     1594323   268435456   452807053]\n",
      " [ -683606016 -2094633337           0  -400556711  1661992960]]\n",
      "[[  1   4   9  16  25]\n",
      " [ 36  49  64  81 100]]\n"
     ]
    }
   ],
   "source": [
    "print(arr2)\n",
    "print(arr1 ** arr2)\n",
    "print(arr1 ** 2)\n"
   ]
  },
  {
   "cell_type": "markdown",
   "metadata": {},
   "source": [
    "Multiplication"
   ]
  },
  {
   "cell_type": "code",
   "execution_count": 18,
   "metadata": {},
   "outputs": [
    {
     "name": "stdout",
     "output_type": "stream",
     "text": [
      "[[ 1  2  3  4  5]\n",
      " [ 6  7  8  9 10]] \n",
      "\n",
      " [[11 12 13 14 15]\n",
      " [16 17 18 19 20]]\n"
     ]
    }
   ],
   "source": [
    "print(arr1,\"\\n\\n\",arr2)"
   ]
  },
  {
   "cell_type": "code",
   "execution_count": 19,
   "metadata": {},
   "outputs": [
    {
     "data": {
      "text/plain": [
       "array([[ 11,  24,  39,  56,  75],\n",
       "       [ 96, 119, 144, 171, 200]])"
      ]
     },
     "execution_count": 19,
     "metadata": {},
     "output_type": "execute_result"
    }
   ],
   "source": [
    "#there are two types of prodeuct that can happen between two matrices\n",
    "# cross product\n",
    "\n",
    "arr1 * arr2"
   ]
  },
  {
   "cell_type": "code",
   "execution_count": 22,
   "metadata": {},
   "outputs": [
    {
     "name": "stdout",
     "output_type": "stream",
     "text": [
      "(5, 2)\n",
      "[[ 13  16  19  22  25]\n",
      " [ 27  34  41  48  55]\n",
      " [ 41  52  63  74  85]\n",
      " [ 55  70  85 100 115]\n",
      " [ 69  88 107 126 145]]\n",
      "[[ 13  16  19  22  25]\n",
      " [ 27  34  41  48  55]\n",
      " [ 41  52  63  74  85]\n",
      " [ 55  70  85 100 115]\n",
      " [ 69  88 107 126 145]]\n"
     ]
    }
   ],
   "source": [
    "# dot product \n",
    "# the no. of columns of the first matrix must be equal to the no of rows of the second matrix\n",
    "arr3 = np.array([[1,2],[3,4],[5,6],[7,8],[9,10]])\n",
    "print(arr3.shape)\n",
    "\n",
    "# these two methods allow us to get the dot multiplication of two matrices\n",
    "print(np.dot(arr3,arr1))\n",
    "print(np.matmul(arr3,arr1))"
   ]
  },
  {
   "cell_type": "markdown",
   "metadata": {},
   "source": [
    "Determinant"
   ]
  },
  {
   "cell_type": "code",
   "execution_count": 25,
   "metadata": {},
   "outputs": [
    {
     "name": "stdout",
     "output_type": "stream",
     "text": [
      "-19.999999999999996\n",
      "528.0\n"
     ]
    }
   ],
   "source": [
    "# to get a determinant of a matrix the matrix should a square matrix i.e. n=m\n",
    "# we are going to use np.linalg module\n",
    "\n",
    "arr_det = np.array([[-4,-10],[0,5]])\n",
    "print(np.linalg.det(arr_det))\n",
    "\n",
    "arr_det2 = np.array([[-4,-10,-6],[0,5,7],[-9,6,0]])\n",
    "print(np.linalg.det(arr_det2))"
   ]
  },
  {
   "cell_type": "markdown",
   "metadata": {},
   "source": [
    "Inverse of a matrix"
   ]
  },
  {
   "cell_type": "code",
   "execution_count": 26,
   "metadata": {},
   "outputs": [
    {
     "name": "stdout",
     "output_type": "stream",
     "text": [
      "[[-0.25 -0.5 ]\n",
      " [ 0.    0.2 ]]\n"
     ]
    }
   ],
   "source": [
    "# if A is a mtrix it's inverse is (1/|det(A)|)*adj(A)\n",
    "# ajd(A) is cof(A)^T\n",
    "\n",
    "arr_inv = np.array([[-4,-10],[0,5]])\n",
    "print(np.linalg.inv(arr_inv)) #prints the inverse of the  matrix"
   ]
  },
  {
   "cell_type": "code",
   "execution_count": 27,
   "metadata": {},
   "outputs": [
    {
     "data": {
      "text/plain": [
       "array([[ -4,   0],\n",
       "       [-10,   5]])"
      ]
     },
     "execution_count": 27,
     "metadata": {},
     "output_type": "execute_result"
    }
   ],
   "source": [
    "arr_inv.transpose()"
   ]
  },
  {
   "cell_type": "code",
   "execution_count": 30,
   "metadata": {},
   "outputs": [
    {
     "name": "stdout",
     "output_type": "stream",
     "text": [
      "[[ -5. -10.]\n",
      " [  0.   4.]]\n"
     ]
    }
   ],
   "source": [
    "#adjoint of a matrix\n",
    "arr_adj = np.linalg.inv(arr_inv)*abs(np.linalg.det(arr_inv))\n",
    "print(arr_adj)"
   ]
  },
  {
   "cell_type": "markdown",
   "metadata": {},
   "source": [
    "Reciprocal\n"
   ]
  },
  {
   "cell_type": "code",
   "execution_count": 32,
   "metadata": {},
   "outputs": [
    {
     "name": "stdout",
     "output_type": "stream",
     "text": [
      "[[10 20]\n",
      " [30 40]]\n"
     ]
    }
   ],
   "source": [
    "arr_reci = np.array([[10,20],[30,40]])\n",
    "print(arr_reci)"
   ]
  },
  {
   "cell_type": "code",
   "execution_count": null,
   "metadata": {},
   "outputs": [],
   "source": [
    "np.reciprocal()"
   ]
  }
 ],
 "metadata": {
  "kernelspec": {
   "display_name": "Python 3",
   "language": "python",
   "name": "python3"
  },
  "language_info": {
   "codemirror_mode": {
    "name": "ipython",
    "version": 3
   },
   "file_extension": ".py",
   "mimetype": "text/x-python",
   "name": "python",
   "nbconvert_exporter": "python",
   "pygments_lexer": "ipython3",
   "version": "3.9.6"
  }
 },
 "nbformat": 4,
 "nbformat_minor": 2
}
