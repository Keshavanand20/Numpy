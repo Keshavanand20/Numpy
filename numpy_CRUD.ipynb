{
 "cells": [
  {
   "cell_type": "markdown",
   "metadata": {},
   "source": [
    "CRUD operations"
   ]
  },
  {
   "cell_type": "markdown",
   "metadata": {},
   "source": [
    "create - c\n",
    "read - r\n",
    "update - u \n",
    "delete - d"
   ]
  },
  {
   "cell_type": "code",
   "execution_count": 2,
   "metadata": {},
   "outputs": [],
   "source": [
    "import numpy as np"
   ]
  },
  {
   "cell_type": "markdown",
   "metadata": {},
   "source": [
    "C - Create"
   ]
  },
  {
   "cell_type": "code",
   "execution_count": 4,
   "metadata": {},
   "outputs": [
    {
     "name": "stdout",
     "output_type": "stream",
     "text": [
      "[1 2 3 4 5]\n"
     ]
    }
   ],
   "source": [
    "#np.array()\n",
    "arr = np.array([1,2,3,4,5])\n",
    "print(arr)"
   ]
  },
  {
   "cell_type": "code",
   "execution_count": 10,
   "metadata": {},
   "outputs": [
    {
     "name": "stdout",
     "output_type": "stream",
     "text": [
      "[0. 0. 0. 0. 0. 0. 0. 0. 0. 0.]\n",
      "[[0 0 0]\n",
      " [0 0 0]\n",
      " [0 0 0]]\n",
      "[[[0 0 0]\n",
      "  [0 0 0]\n",
      "  [0 0 0]]\n",
      "\n",
      " [[0 0 0]\n",
      "  [0 0 0]\n",
      "  [0 0 0]]\n",
      "\n",
      " [[0 0 0]\n",
      "  [0 0 0]\n",
      "  [0 0 0]]\n",
      "\n",
      " [[0 0 0]\n",
      "  [0 0 0]\n",
      "  [0 0 0]]\n",
      "\n",
      " [[0 0 0]\n",
      "  [0 0 0]\n",
      "  [0 0 0]]]\n"
     ]
    }
   ],
   "source": [
    "# this for when we need an arraywith only zeroes as its values \n",
    "# np.zeros(size of array,datatype)\n",
    "# by default the dtype of the zeroes int he array is Float\n",
    "# but we can change it \n",
    "arr1 = np.zeros(10)\n",
    "print(arr1)\n",
    "arr2 = np.zeros((3,3),int)\n",
    "print(arr2)\n",
    "arr3 = np.zeros((5,3,3),int)\n",
    "print(arr3)\n"
   ]
  },
  {
   "cell_type": "code",
   "execution_count": 15,
   "metadata": {},
   "outputs": [
    {
     "name": "stdout",
     "output_type": "stream",
     "text": [
      "[[1. 1. 1. 1.]\n",
      " [1. 1. 1. 1.]\n",
      " [1. 1. 1. 1.]]\n"
     ]
    }
   ],
   "source": [
    "# np.ones(size of array, datatype)\n",
    "# same as the last function it creates an array with only '1's as its values\n",
    "arr_1 = np.ones((3,4))\n",
    "print(arr_1)"
   ]
  },
  {
   "cell_type": "code",
   "execution_count": 16,
   "metadata": {},
   "outputs": [
    {
     "name": "stdout",
     "output_type": "stream",
     "text": [
      "[[6.23042070e-307 4.67296746e-307]\n",
      " [1.69121096e-306 4.81693045e-312]]\n"
     ]
    }
   ],
   "source": [
    "# np.empty(size of array)\n",
    "# creates array with garbage values\n",
    "arr_nul = np.empty((2,2))\n",
    "print(arr_nul)"
   ]
  },
  {
   "cell_type": "code",
   "execution_count": 17,
   "metadata": {},
   "outputs": [
    {
     "name": "stdout",
     "output_type": "stream",
     "text": [
      "[[5 5 5 5]\n",
      " [5 5 5 5]\n",
      " [5 5 5 5]\n",
      " [5 5 5 5]]\n"
     ]
    }
   ],
   "source": [
    "# np.full(size of array, value)\n",
    "# it allows us to create a array of the shaoe we desire with all the values \n",
    "# that are same \n",
    "\n",
    "arr_full = np.full((4,4),5)\n",
    "print(arr_full)"
   ]
  },
  {
   "cell_type": "code",
   "execution_count": 20,
   "metadata": {},
   "outputs": [
    {
     "name": "stdout",
     "output_type": "stream",
     "text": [
      "[[1. 0. 0. 0. 0. 0. 0. 0.]\n",
      " [0. 1. 0. 0. 0. 0. 0. 0.]\n",
      " [0. 0. 1. 0. 0. 0. 0. 0.]\n",
      " [0. 0. 0. 1. 0. 0. 0. 0.]\n",
      " [0. 0. 0. 0. 1. 0. 0. 0.]\n",
      " [0. 0. 0. 0. 0. 1. 0. 0.]\n",
      " [0. 0. 0. 0. 0. 0. 1. 0.]\n",
      " [0. 0. 0. 0. 0. 0. 0. 1.]]\n"
     ]
    }
   ],
   "source": [
    "# np.eye(number of ones needed) --> Idnetity matrix\n",
    "# allows us to create an identity matrix\n",
    "# the array needs to be a square matrix\n",
    "\n",
    "arr_I = np.eye(8)\n",
    "print(arr_I)"
   ]
  },
  {
   "cell_type": "code",
   "execution_count": 21,
   "metadata": {},
   "outputs": [
    {
     "name": "stdout",
     "output_type": "stream",
     "text": [
      "[[1 0 0 0 0]\n",
      " [0 2 0 0 0]\n",
      " [0 0 3 0 0]\n",
      " [0 0 0 4 0]\n",
      " [0 0 0 0 5]]\n"
     ]
    }
   ],
   "source": [
    "# np.diag(array of values[])\n",
    "# allows us to create a diagonal matrix\n",
    "# we can put the values of the element in the diagonal\n",
    "# in a array as aparameter for the function\n",
    "arr_d = np.diag([1,2,3,4,5])\n",
    "print(arr_d)"
   ]
  },
  {
   "cell_type": "code",
   "execution_count": 25,
   "metadata": {},
   "outputs": [
    {
     "name": "stdout",
     "output_type": "stream",
     "text": [
      "[ 10.  20.  30.  40.  50.  60.  70.  80.  90. 100.]\n",
      "[ 0.          0.52631579  1.05263158  1.57894737  2.10526316  2.63157895\n",
      "  3.15789474  3.68421053  4.21052632  4.73684211  5.26315789  5.78947368\n",
      "  6.31578947  6.84210526  7.36842105  7.89473684  8.42105263  8.94736842\n",
      "  9.47368421 10.        ]\n"
     ]
    }
   ],
   "source": [
    "# np.linspace(start,end,number of values) -- start and end values are included in the array \n",
    "# this function allows us to create a array with any number of values between 2 parameters \n",
    "# where two consequtive values will have same differences throughout the array\n",
    "# data will be of float datatype by default\n",
    "\n",
    "\n",
    "arr_l = np.linspace(10,100,10)\n",
    "print(arr_l)\n",
    "arr_l2 =np.linspace(0,10,20)\n",
    "print(arr_l2)"
   ]
  },
  {
   "cell_type": "code",
   "execution_count": 27,
   "metadata": {},
   "outputs": [
    {
     "name": "stdout",
     "output_type": "stream",
     "text": [
      "[[0.44252576 0.3691182  0.16215375 0.88044121]\n",
      " [0.28339601 0.60150724 0.00751351 0.15929272]\n",
      " [0.04199342 0.06359506 0.95318352 0.13338255]]\n"
     ]
    }
   ],
   "source": [
    "# np.random.rand(size of array)\n",
    "# creates an array of the given size with random values\n",
    "arr_rand = np.random.rand(3,4)\n",
    "print(arr_rand)"
   ]
  },
  {
   "cell_type": "code",
   "execution_count": 32,
   "metadata": {},
   "outputs": [
    {
     "name": "stdout",
     "output_type": "stream",
     "text": [
      "[[7 5 1 5 7]]\n"
     ]
    }
   ],
   "source": [
    "# np.random.randint(start, end, size=(), datatype)\n",
    "# creates an array with the size provided and the integer values are between [satrt, end)\n",
    "\n",
    "arr_randint = np.random.randint(1,8,size=(1,5))\n",
    "print(arr_randint)"
   ]
  },
  {
   "cell_type": "code",
   "execution_count": 39,
   "metadata": {},
   "outputs": [
    {
     "name": "stdout",
     "output_type": "stream",
     "text": [
      "[1 3 5 7 9]\n"
     ]
    }
   ],
   "source": [
    "# np.arange(start , end, step)\n",
    "# returns evenly spaced values between a given interval [start,end)\n",
    "\n",
    "arr_a = np.arange(1,10,2)\n",
    "print(arr_a)"
   ]
  },
  {
   "cell_type": "markdown",
   "metadata": {},
   "source": [
    "U -> Update"
   ]
  },
  {
   "cell_type": "code",
   "execution_count": 41,
   "metadata": {},
   "outputs": [],
   "source": [
    "arr1 = np.array([1,2,3,4,5])\n",
    "arr2 = np.array([[1,2,3,4],[5,6,7,8],[9,10,11,12]])\n"
   ]
  },
  {
   "cell_type": "code",
   "execution_count": 42,
   "metadata": {},
   "outputs": [
    {
     "name": "stdout",
     "output_type": "stream",
     "text": [
      "5\n",
      "4\n"
     ]
    }
   ],
   "source": [
    "# Indexing\n",
    "#1D array\n",
    "print(arr1[-1])\n",
    "print(arr1[3])\n",
    "\n"
   ]
  },
  {
   "cell_type": "code",
   "execution_count": 46,
   "metadata": {},
   "outputs": [
    {
     "name": "stdout",
     "output_type": "stream",
     "text": [
      "[[[ 1  2  3]\n",
      "  [ 4  5  6]]\n",
      "\n",
      " [[ 7  8  9]\n",
      "  [10 11 12]]]\n"
     ]
    }
   ],
   "source": [
    "arr3 = np.array([[[1,2,3],\n",
    "                  [4,5,6]],\n",
    "                  [[7,8,9],\n",
    "                  [10,11,12]]])\n",
    "print(arr3)"
   ]
  },
  {
   "cell_type": "code",
   "execution_count": 44,
   "metadata": {},
   "outputs": [
    {
     "name": "stdout",
     "output_type": "stream",
     "text": [
      "5\n"
     ]
    }
   ],
   "source": [
    "print(arr3[0,1,1])"
   ]
  },
  {
   "cell_type": "markdown",
   "metadata": {},
   "source": [
    "Slicing"
   ]
  },
  {
   "cell_type": "code",
   "execution_count": 53,
   "metadata": {},
   "outputs": [
    {
     "name": "stdout",
     "output_type": "stream",
     "text": [
      "[[ 1  2  3  4]\n",
      " [ 5  6  7  8]\n",
      " [ 9 10 11 12]]\n",
      "[[5 6 7 8]]\n",
      "[6 7]\n"
     ]
    }
   ],
   "source": [
    "print(arr2)\n",
    "print(arr2[1:2]) # here 1 and 2 are consider the indexs of rows \n",
    "# i.e. why we get the whole 2nd row\n",
    "print(arr2[1,1:3]) # to get value inside a specific row add the index of \n",
    "# that row using  a ',' before the _:_ part"
   ]
  },
  {
   "cell_type": "code",
   "execution_count": 57,
   "metadata": {},
   "outputs": [
    {
     "name": "stdout",
     "output_type": "stream",
     "text": [
      "[[[ 1  2  3]\n",
      "  [ 4  5  6]]\n",
      "\n",
      " [[ 7  8  9]\n",
      "  [10 11 12]]]\n",
      "[[4 5 6]]\n",
      "[11 12]\n"
     ]
    }
   ],
   "source": [
    "print(arr3)\n",
    "#to access x = 0, y=1 i.e. [4,5,6]\n",
    "print(arr3[0,1:])\n",
    "#to access x=1,y=1,z=1,2 i.e. [11,12]\n",
    "print(arr3[1,1,1:3])"
   ]
  },
  {
   "cell_type": "code",
   "execution_count": 68,
   "metadata": {},
   "outputs": [
    {
     "name": "stdout",
     "output_type": "stream",
     "text": [
      "[[ 10.          54.54545455  99.09090909 143.63636364]\n",
      " [188.18181818 232.72727273 277.27272727 321.81818182]\n",
      " [366.36363636 410.90909091 455.45454545 500.        ]]\n"
     ]
    }
   ],
   "source": [
    "#quiz\n",
    "#create and array of 3X4 dim and values between 10 to 500 and the values should be evenly distributed\n",
    "\n",
    "arr_q = np.linspace(10,500,12)\n",
    "arr_q = arr_q.reshape(3,4)\n",
    "print(arr_q)\n"
   ]
  },
  {
   "cell_type": "markdown",
   "metadata": {},
   "source": [
    "reshape function allows for the reshaping of an array to any dimension you want given the elements in the array are equal to what it should be in the desired array shape i.e. an array must have 12 elements to be reshaped into a 12X1, 3X4, 6X2 arrays. reshape function makes a copy of the array and makes changes to it , it doesn't change the original array."
   ]
  },
  {
   "cell_type": "code",
   "execution_count": 70,
   "metadata": {},
   "outputs": [
    {
     "name": "stdout",
     "output_type": "stream",
     "text": [
      "[[4.34123585e-01 6.97347394e-01 3.98757818e-01 1.76046140e-01\n",
      "  8.57022666e-01 1.76336419e-01 1.29293971e-01 8.11459657e-01\n",
      "  7.73007903e-02]\n",
      " [4.69504790e-01 3.65815527e-02 1.04491307e-01 9.34070509e-01\n",
      "  5.97423394e-01 5.68244599e-01 9.30523943e-01 8.78383213e-01\n",
      "  9.62970456e-01]\n",
      " [7.97529622e-01 9.93329864e-01 9.04921140e-02 4.47921171e-01\n",
      "  6.64191880e-01 6.35611582e-01 5.35759466e-01 7.63104741e-01\n",
      "  1.60677013e-01]\n",
      " [5.88418932e-02 3.77140086e-01 2.69787348e-01 3.35385795e-01\n",
      "  3.74096162e-01 5.43525444e-01 9.06705198e-01 3.09522213e-01\n",
      "  4.01151158e-01]\n",
      " [3.52223877e-01 3.88981715e-02 1.64361906e-01 3.82962860e-01\n",
      "  2.67472380e-01 1.51772811e-01 6.44284929e-01 5.25777425e-01\n",
      "  1.74497300e-01]\n",
      " [1.97690869e-01 4.72898028e-01 3.01286061e-02 7.91866166e-01\n",
      "  8.26981121e-02 5.80707254e-01 2.76714228e-01 9.46925095e-01\n",
      "  8.56023706e-01]\n",
      " [4.50860396e-04 3.78688228e-02 7.14361232e-01 9.35877218e-01\n",
      "  2.69902808e-01 6.50137813e-02 3.78949101e-01 3.77766424e-01\n",
      "  3.22337514e-01]]\n"
     ]
    }
   ],
   "source": [
    "#create a 7X9 matrix where all the elements are random\n",
    "\n",
    "arr_r = np.random.rand(63).reshape(7,9)\n",
    "print(arr_r)"
   ]
  },
  {
   "cell_type": "code",
   "execution_count": 86,
   "metadata": {},
   "outputs": [
    {
     "name": "stdout",
     "output_type": "stream",
     "text": [
      "[[ 1  2  3  4]\n",
      " [ 5  6  7  8]\n",
      " [ 9 10 11 12]]\n"
     ]
    }
   ],
   "source": [
    "arr_new = arr2\n",
    "print(arr_new)\n",
    "\n",
    "arr2d = np.array([[15,16,17,18],[19,20,21,22],[23,24,25,26]])\n",
    "\n",
    "#we need to merge these two "
   ]
  },
  {
   "cell_type": "code",
   "execution_count": 89,
   "metadata": {},
   "outputs": [
    {
     "name": "stdout",
     "output_type": "stream",
     "text": [
      "[[ 1  2  3  4 15 16 17 18]\n",
      " [ 5  6  7  8 19 20 21 22]\n",
      " [ 9 10 11 12 23 24 25 26]]\n",
      "[[ 1  2  3  4]\n",
      " [ 5  6  7  8]\n",
      " [ 9 10 11 12]\n",
      " [15 16 17 18]\n",
      " [19 20 21 22]\n",
      " [23 24 25 26]]\n"
     ]
    }
   ],
   "source": [
    "#we are using the np.append(array, values,axis=none)\n",
    "#if we wnat to add a different array to another array they both need to have the same dimensions\n",
    "\n",
    "print(np.append(arr_new,arr2d,axis=1))\n",
    "print(np.append(arr_new,arr2d,axis=0))"
   ]
  },
  {
   "cell_type": "code",
   "execution_count": 90,
   "metadata": {},
   "outputs": [
    {
     "data": {
      "text/plain": [
       "array([[16, 18, 20, 22],\n",
       "       [24, 26, 28, 30],\n",
       "       [32, 34, 36, 38]])"
      ]
     },
     "execution_count": 90,
     "metadata": {},
     "output_type": "execute_result"
    }
   ],
   "source": [
    "arr_new+arr2d"
   ]
  },
  {
   "cell_type": "code",
   "execution_count": 91,
   "metadata": {},
   "outputs": [
    {
     "data": {
      "text/plain": [
       "array([[11, 12, 13, 14],\n",
       "       [15, 16, 17, 18],\n",
       "       [19, 20, 21, 22]])"
      ]
     },
     "execution_count": 91,
     "metadata": {},
     "output_type": "execute_result"
    }
   ],
   "source": [
    "arr_new +10"
   ]
  },
  {
   "cell_type": "code",
   "execution_count": 92,
   "metadata": {},
   "outputs": [
    {
     "data": {
      "text/plain": [
       "array([[ 2,  4,  6,  8],\n",
       "       [10, 12, 14, 16],\n",
       "       [18, 20, 22, 24]])"
      ]
     },
     "execution_count": 92,
     "metadata": {},
     "output_type": "execute_result"
    }
   ],
   "source": [
    "arr_new *2"
   ]
  },
  {
   "cell_type": "code",
   "execution_count": null,
   "metadata": {},
   "outputs": [],
   "source": []
  }
 ],
 "metadata": {
  "kernelspec": {
   "display_name": "Python 3",
   "language": "python",
   "name": "python3"
  },
  "language_info": {
   "codemirror_mode": {
    "name": "ipython",
    "version": 3
   },
   "file_extension": ".py",
   "mimetype": "text/x-python",
   "name": "python",
   "nbconvert_exporter": "python",
   "pygments_lexer": "ipython3",
   "version": "3.9.6"
  }
 },
 "nbformat": 4,
 "nbformat_minor": 2
}
